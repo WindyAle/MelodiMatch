{
 "cells": [
  {
   "cell_type": "code",
   "execution_count": 6,
   "id": "5e099077",
   "metadata": {},
   "outputs": [
    {
     "data": {
      "text/plain": [
       "[([1, 2, 3, 4, 5, 6], [3, 3, 3, 3, 4, 4]),\n",
       " ([1, 2, 3, 4, 5, 6], [1, 3, 3, 4, 4, 4]),\n",
       " ([1, 2, 3, 4, 5, 6], [1, 1, 4, 4, 5, 5]),\n",
       " ([3, 3, 3, 3, 4, 4], [1, 3, 3, 4, 4, 4]),\n",
       " ([3, 3, 3, 3, 4, 4], [1, 1, 4, 4, 5, 5]),\n",
       " ([1, 3, 3, 4, 4, 4], [1, 1, 4, 4, 5, 5])]"
      ]
     },
     "execution_count": 6,
     "metadata": {},
     "output_type": "execute_result"
    }
   ],
   "source": [
    "from itertools import combinations, product\n",
    "\n",
    "def solution(dice):\n",
    "    answer = []\n",
    "    comb = [choice for choice in combinations(dice, len(dice)//2)]\n",
    "    \n",
    "    prd = product(comb[0], comb[1])\n",
    "\n",
    "    return comb\n",
    "\n",
    "dice = [[1, 2, 3, 4, 5, 6], [3, 3, 3, 3, 4, 4], [1, 3, 3, 4, 4, 4], [1, 1, 4, 4, 5, 5]]\n",
    "solution(dice)"
   ]
  },
  {
   "cell_type": "code",
   "execution_count": null,
   "id": "ac533da3",
   "metadata": {},
   "outputs": [],
   "source": [
    "def sol(grid):\n",
    "    rows, cols = len(grid), len(grid[0])\n",
    "    max_area = 0\n",
    "\n",
    "    # 특정 칸을 기준으로 세로, 가로를 탐색하는 리스트\n",
    "    v = [[0] * cols for _ in range(rows)]\n",
    "    h = [[0] * cols for _ in range(rows)]\n",
    "\n",
    "    for r in range(rows):\n",
    "        for c in range(cols):\n",
    "            # 특정 칸까지의 세로, 가로 길이를 담기\n",
    "            # 장애물 칸(1)이면 0으로 초기화 후 다시\n",
    "            if grid[r][c] == 0:\n",
    "                v[r][c] = (v[r - 1][c] if r > 0 else 0) + 1\n",
    "                h[r][c] = (h[r][c - 1] if c > 0 else 0) + 1\n",
    "\n",
    "    for r1 in range(rows):\n",
    "        for r2 in range(r1, rows):\n",
    "            height = r2 - r1 + 1\n",
    "            valid_c1 = -1\n",
    "\n",
    "            for c in range(cols):\n",
    "                # 현재 열(c)이 위(r1)에서 아래(r2)까지 모두 비어있는지 확인\n",
    "                is_col_valid = (v[r2][c] >= height)\n",
    "\n",
    "                if is_col_valid:\n",
    "                    # 유효한 열이 처음 나오면 그 위치를 왼쪽 변(c1)으로 설정\n",
    "                    if valid_c1 == -1:\n",
    "                        valid_c1 = c\n",
    "                    \n",
    "                    # 현재 너비가 위쪽(r1)과 아래쪽(r2) 세로변에서도 유효한지 확인\n",
    "                    width = c - valid_c1 + 1\n",
    "                    is_top_row_valid = (h[r1][c] >= width)\n",
    "                    is_bottom_row_valid = (h[r2][c] >= width)\n",
    "\n",
    "                    if is_top_row_valid and is_bottom_row_valid:\n",
    "                        # 모든 변이 유효하면 넓이를 계산하고 최댓값 갱신\n",
    "                        max_area = max(max_area, height * width)\n",
    "                else:\n",
    "                    # 현재 열에 장애물이 있으면 유효한 사각형 시작점을 리셋\n",
    "                    valid_c1 = -1\n",
    "    \n",
    "    return max_area"
   ]
  }
 ],
 "metadata": {
  "kernelspec": {
   "display_name": "ml_env",
   "language": "python",
   "name": "python3"
  },
  "language_info": {
   "codemirror_mode": {
    "name": "ipython",
    "version": 3
   },
   "file_extension": ".py",
   "mimetype": "text/x-python",
   "name": "python",
   "nbconvert_exporter": "python",
   "pygments_lexer": "ipython3",
   "version": "3.12.11"
  }
 },
 "nbformat": 4,
 "nbformat_minor": 5
}
